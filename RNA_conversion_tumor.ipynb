{
 "cells": [
  {
   "cell_type": "markdown",
   "id": "84310f09",
   "metadata": {},
   "source": [
    "**Import necessary packages**"
   ]
  },
  {
   "cell_type": "code",
   "execution_count": 6,
   "id": "bae6a0a5",
   "metadata": {},
   "outputs": [],
   "source": [
    "import pandas as pd"
   ]
  },
  {
   "cell_type": "markdown",
   "id": "7f7b66f3",
   "metadata": {},
   "source": [
    "**Remap RNA data and write out**"
   ]
  },
  {
   "cell_type": "code",
   "execution_count": 8,
   "id": "2d9551fc",
   "metadata": {
    "scrolled": true
   },
   "outputs": [],
   "source": [
    "list_of_tumor_types = [\"BRCA1\", \"BRCA2\",\"ccRCC1\",\"ccRCC2\", \"ccRCC3\",\"ccRCC4\",\"COAD\", \"DLBCL\", \"GBM\", \"HCC\", \"HurthleCC\", \"ICC\", \"OV\", \"PDAC\", \"PRAD\"]\n",
    "mapping = pd.read_csv(\"../Data/Tumour Data/MasterMapping_MetImmune_03_16_2022_release.csv\")\n",
    "mapping_dict = {ITHID:metkey for metkey,ITHID in zip(mapping[\"MetabID\"], mapping[\"ITHID\"]) }\n",
    "for tumor_type in list_of_tumor_types:\n",
    "    metabolite = pd.read_csv(\"../Data/Generated Data/Tumor Generated/processed_%s_metabolite_data.csv\" %tumor_type).transpose()\n",
    "    rna = pd.read_csv(\"../Data/Tumour Data/tumour_transcriptomics_processed/RNA_raw_%s.csv\" %tumor_type, index_col = \"gene_symbol\")\n",
    "    if tumor_type == \"BRCA2\":\n",
    "        rna.columns = [x.replace(\".\", \"-\") for x in rna.columns]\n",
    "    new_columns = []\n",
    "    for column in rna.columns:\n",
    "        try:\n",
    "            new_columns.append(mapping_dict[column])\n",
    "        except:\n",
    "            new_columns.append(\"Drop\")\n",
    "    rna.columns = new_columns\n",
    "    rna = rna.loc[:, ~rna.columns.str.contains(\"Drop\")]\n",
    "    rna.to_csv(\"../Data/Generated Data/Tumor Generated/processed_%s_RNA_data.csv\" %tumor_type, index_label = False)"
   ]
  },
  {
   "cell_type": "code",
   "execution_count": null,
   "id": "52ae6ec4",
   "metadata": {},
   "outputs": [],
   "source": []
  }
 ],
 "metadata": {
  "kernelspec": {
   "display_name": "METenv",
   "language": "python",
   "name": "metenv"
  },
  "language_info": {
   "codemirror_mode": {
    "name": "ipython",
    "version": 3
   },
   "file_extension": ".py",
   "mimetype": "text/x-python",
   "name": "python",
   "nbconvert_exporter": "python",
   "pygments_lexer": "ipython3",
   "version": "3.10.4"
  }
 },
 "nbformat": 4,
 "nbformat_minor": 5
}
