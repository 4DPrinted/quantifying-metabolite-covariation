{
 "cells": [
  {
   "cell_type": "markdown",
   "id": "833e81fe",
   "metadata": {},
   "source": [
    "Import necessary packages"
   ]
  },
  {
   "cell_type": "code",
   "execution_count": 2,
   "id": "5dfd395d",
   "metadata": {},
   "outputs": [],
   "source": [
    "import pandas as pd\n",
    "import scipy\n",
    "import knnie\n",
    "import numpy as np\n",
    "import dcor\n",
    "from scipy import stats\n",
    "from scipy.stats import entropy\n",
    "import seaborn as sns\n",
    "import math"
   ]
  },
  {
   "cell_type": "markdown",
   "id": "37464644",
   "metadata": {},
   "source": [
    "Subsetting function to identify k-cases of genes"
   ]
  },
  {
   "cell_type": "code",
   "execution_count": 3,
   "id": "f2b1cb70",
   "metadata": {},
   "outputs": [],
   "source": [
    "def subsetting(k_val, gene_index, metabolite_index, model):\n",
    "    if k_val in [-1,0,1]:\n",
    "        if k_val == -1:\n",
    "            return gene_index\n",
    "        elif k_val == 0:\n",
    "            gene_names = []\n",
    "            for gene in model.genes:\n",
    "                if gene.name in gene_index:\n",
    "                    gene_names.append(gene.name)\n",
    "            return gene_names\n",
    "        else:\n",
    "            metabolite_names = []\n",
    "            for met in model.metabolites:\n",
    "                met_id = \"_\".join(met.id.split(\"_\")[:-1])\n",
    "                if met_id not in metabolite_names and met_id in metabolite_index:\n",
    "                    metabolite_names.append(met_id)\n",
    "            print(len(metabolite_names))\n",
    "            gene_names = []\n",
    "            for gene in model.genes:\n",
    "                if gene.name in gene_index:\n",
    "                    if len(gene.reactions) > 0:\n",
    "                        for rxn in gene.reactions:\n",
    "                            for met in list(rxn.metabolites.keys()):\n",
    "                                met_id = \"_\".join(met.id.split(\"_\")[:-1])\n",
    "                                if met_id in metabolite_names and gene.name not in gene_names:\n",
    "                                    gene_names.append(gene.name)\n",
    "            return gene_names\n",
    "    else:\n",
    "        raise ValueError(\"K_val is incorrect\")\n"
   ]
  },
  {
   "cell_type": "markdown",
   "id": "495473d7",
   "metadata": {},
   "source": [
    "Average duplicate genes"
   ]
  },
  {
   "cell_type": "code",
   "execution_count": 4,
   "id": "56310654",
   "metadata": {},
   "outputs": [],
   "source": [
    "def averageDuplicates(dataframe):\n",
    "    dataframe[\"Gene\"] = dataframe.index\n",
    "    dataframe = dataframe.groupby(\"Gene\").mean()\n",
    "    return dataframe"
   ]
  },
  {
   "cell_type": "markdown",
   "id": "c1692926",
   "metadata": {},
   "source": [
    "Calculate distance correlation metric between two vectors"
   ]
  },
  {
   "cell_type": "code",
   "execution_count": 6,
   "id": "0949bd84",
   "metadata": {},
   "outputs": [],
   "source": [
    "def calcOverlap(x, y, metric):\n",
    "    if metric == \"DC\":\n",
    "        # To recreate Székely et al paper use distance_correlation_sqr rather than distance_correlation\n",
    "        if (len(x) != len(y)) and (len(x.columns) == len(y.columns)):\n",
    "            x_transposed = x.transpose()\n",
    "            y_transposed = y.transpose()\n",
    "            return dcor.distance_correlation(x_transposed, y_transposed)\n",
    "        elif (len(x) == len(y)):\n",
    "            return dcor.distance_correlation(x, y)\n",
    "        elif (len(x) == len(y.columns)):\n",
    "            y_transposed = y.transpose()\n",
    "            return dcor.distance_correlation(x, y_transposed)\n",
    "        elif (len(y) == len(x.columns)):\n",
    "            x_transposed = x.transpose()\n",
    "            return dcor.distance_correlation(x_transposed, y)\n",
    "        else:\n",
    "            raise ValueError(\"At least one dimension must be identical\")"
   ]
  },
  {
   "cell_type": "markdown",
   "id": "129a2b84",
   "metadata": {},
   "source": [
    "Permution of samples"
   ]
  },
  {
   "cell_type": "code",
   "execution_count": null,
   "id": "6165ac7d",
   "metadata": {},
   "outputs": [],
   "source": [
    "def permuteDataframe(x, y, n_permutations, metric):\n",
    "    data = []\n",
    "    for i in range(0,n_permutations-1):\n",
    "        x_perm = x.reindex(np.random.permutation(x.columns), axis = \"columns\").transpose()\n",
    "        distance_corr_coeff2 = calcOverlap(x_perm, y, metric)\n",
    "        data.append(distance_corr_coeff2)\n",
    "        permutationData = pd.DataFrame(data = data)\n",
    "    return permutationData"
   ]
  },
  {
   "cell_type": "markdown",
   "id": "7dff350d",
   "metadata": {},
   "source": [
    "Sample testing of genes and etc"
   ]
  },
  {
   "cell_type": "code",
   "execution_count": null,
   "id": "f0dadf80",
   "metadata": {},
   "outputs": [],
   "source": [
    "def geneSampling(x,y, included_index, n_samples, metric):\n",
    "    # Remove genes that are also in genes of interest\n",
    "    data = []\n",
    "    samplingData = pd.DataFrame()\n",
    "    x = x.drop(included_index)\n",
    "    for i in range(0,n_samples-1):\n",
    "        x_sampled = x.sample(len(included_index), axis = 0)\n",
    "        samplingData[i] = x_sampled.index\n",
    "        distance_corr_coeff3 = calcOverlap(x_sampled, y, metric)\n",
    "        data.append(distance_corr_coeff3)\n",
    "    samplingData.loc[-1] = data\n",
    "    samplingData = samplingData.transpose()\n",
    "    Coeffs = samplingData.pop(-1)\n",
    "    samplingData.insert(0, 'Coeffs', Coeffs)\n",
    "\n",
    "    return samplingData"
   ]
  },
  {
   "cell_type": "markdown",
   "id": "55f1fe57",
   "metadata": {},
   "source": [
    "Calculate partial Distance Correlation"
   ]
  },
  {
   "cell_type": "code",
   "execution_count": 9,
   "id": "4ae2188b",
   "metadata": {},
   "outputs": [],
   "source": [
    "def calcPDC(x,y,z):\n",
    "    return dcor.partial_distance_correlation(x, y,z)"
   ]
  },
  {
   "cell_type": "code",
   "execution_count": null,
   "id": "5746ad56-a266-4701-813d-0004dfc4dc73",
   "metadata": {},
   "outputs": [],
   "source": []
  },
  {
   "cell_type": "code",
   "execution_count": null,
   "id": "f66cb412-f7da-45a3-9e89-5519c84304bd",
   "metadata": {},
   "outputs": [],
   "source": []
  }
 ],
 "metadata": {
  "kernelspec": {
   "display_name": "METenv",
   "language": "python",
   "name": "metenv"
  },
  "language_info": {
   "codemirror_mode": {
    "name": "ipython",
    "version": 3
   },
   "file_extension": ".py",
   "mimetype": "text/x-python",
   "name": "python",
   "nbconvert_exporter": "python",
   "pygments_lexer": "ipython3",
   "version": "3.10.4"
  }
 },
 "nbformat": 4,
 "nbformat_minor": 5
}
