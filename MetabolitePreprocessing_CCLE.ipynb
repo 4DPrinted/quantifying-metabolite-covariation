{
 "cells": [
  {
   "cell_type": "markdown",
   "id": "d1076da8",
   "metadata": {},
   "source": [
    "Import necessary packages"
   ]
  },
  {
   "cell_type": "code",
   "execution_count": 1,
   "id": "96d9b8a7",
   "metadata": {},
   "outputs": [],
   "source": [
    "import pandas as pd\n",
    "import numpy as np"
   ]
  },
  {
   "cell_type": "markdown",
   "id": "51f51999",
   "metadata": {},
   "source": [
    "Import conversion factor"
   ]
  },
  {
   "cell_type": "code",
   "execution_count": 2,
   "id": "c318757f",
   "metadata": {},
   "outputs": [],
   "source": [
    "#Import conversion\n",
    "bigg_df = pd.read_csv(\"../Data/bigg_models_metabolites.txt\", sep = \"\\t\")\n",
    "bigg_df = bigg_df.set_index(\"universal_bigg_id\") \n",
    "bigg = bigg_df[\"name\"]\n",
    "bigg = bigg.drop_duplicates()"
   ]
  },
  {
   "cell_type": "markdown",
   "id": "f268a3ac",
   "metadata": {},
   "source": [
    "Import metabolite data"
   ]
  },
  {
   "cell_type": "code",
   "execution_count": null,
   "id": "974f5ba5",
   "metadata": {},
   "outputs": [],
   "source": [
    "metabolite_df = pd.read_csv(\"../Data/original_metabolite_data.csv\")\n",
    "metabolite_df =metabolite_df.set_index(\"CCLE_ID\", drop = True)"
   ]
  },
  {
   "cell_type": "markdown",
   "id": "9bdcfa7a",
   "metadata": {},
   "source": [
    "Find identical matches in conversion factor"
   ]
  },
  {
   "cell_type": "code",
   "execution_count": 4,
   "id": "e24e58a0",
   "metadata": {},
   "outputs": [
    {
     "data": {
      "text/plain": [
       "0"
      ]
     },
     "execution_count": 4,
     "metadata": {},
     "output_type": "execute_result"
    }
   ],
   "source": [
    "perfect_fits = set(bigg).intersection(set(metabolite_df.columns))\n",
    "len(perfect_fits)"
   ]
  },
  {
   "cell_type": "markdown",
   "id": "b27cacb9",
   "metadata": {},
   "source": [
    "Remove prefixes"
   ]
  },
  {
   "cell_type": "code",
   "execution_count": null,
   "id": "e6d462cf",
   "metadata": {},
   "outputs": [],
   "source": [
    "bigg = bigg.apply(lambda x: str(x).replace(\"D-\",\"\"))\n",
    "bigg = bigg.apply(lambda x: str(x).replace(\"L-\",\"\"))"
   ]
  },
  {
   "cell_type": "markdown",
   "id": "bf898744",
   "metadata": {},
   "source": [
    "Convert names to lower case"
   ]
  },
  {
   "cell_type": "code",
   "execution_count": 6,
   "id": "3c054a6c",
   "metadata": {},
   "outputs": [],
   "source": [
    "bigg = bigg.apply(lambda x: str(x).lower())\n",
    "metabolite_df.columns= metabolite_df.columns.str.lower()"
   ]
  },
  {
   "cell_type": "markdown",
   "id": "bf4eb387",
   "metadata": {},
   "source": [
    "Find Identical Matches between the two again"
   ]
  },
  {
   "cell_type": "code",
   "execution_count": 8,
   "id": "bb6af902",
   "metadata": {},
   "outputs": [
    {
     "data": {
      "text/plain": [
       "57"
      ]
     },
     "execution_count": 8,
     "metadata": {},
     "output_type": "execute_result"
    }
   ],
   "source": [
    "perfect_fits = set(bigg).intersection(set(metabolite_df.columns))\n",
    "len(perfect_fits)"
   ]
  },
  {
   "cell_type": "markdown",
   "id": "2eb9471d",
   "metadata": {},
   "source": [
    "Replace names followed by cytosol/formula"
   ]
  },
  {
   "cell_type": "code",
   "execution_count": 9,
   "id": "46380c13",
   "metadata": {},
   "outputs": [],
   "source": [
    "for col in metabolite_df.columns:\n",
    "    if col not in perfect_fits:\n",
    "        test_str = \" \".join([col,\"c\"])\n",
    "        test = bigg.apply(lambda x: str(x).startswith(test_str))\n",
    "        bigg[test] = col"
   ]
  },
  {
   "cell_type": "markdown",
   "id": "54ae9952",
   "metadata": {},
   "source": [
    "Find Identical Matches between the two again"
   ]
  },
  {
   "cell_type": "code",
   "execution_count": 10,
   "id": "984f7785",
   "metadata": {},
   "outputs": [
    {
     "data": {
      "text/plain": [
       "72"
      ]
     },
     "execution_count": 10,
     "metadata": {},
     "output_type": "execute_result"
    }
   ],
   "source": [
    "perfect_fits = set(bigg).intersection(set(metabolite_df.columns))\n",
    "len(perfect_fits)"
   ]
  },
  {
   "cell_type": "markdown",
   "id": "976afc49",
   "metadata": {},
   "source": [
    "Manual correction of abrevviations, hyphens and inversions\n",
    "# ONLY FOR IDs that can be confidently mapped"
   ]
  },
  {
   "cell_type": "code",
   "execution_count": 11,
   "id": "9870b8c5",
   "metadata": {},
   "outputs": [],
   "source": [
    "\n",
    "dict_correct = {\n",
    "    '3-phosphoglycerate': '3-phospho-glycerate',\n",
    "    'alpha-ketoglutarate': '2-oxoglutarate',\n",
    "    'erythrose-4-phosphate': 'erythrose 4-phosphate',\n",
    "    'glutathione oxidized': 'oxidized glutathione',\n",
    "    'glutathione reduced': 'reduced glutathione',\n",
    "    'hippurate': 'o-methylhippurate',\n",
    "    'kynurenine': 'l kynurenine c10h12n2o3',\n",
    "    'nad': 'nicotinamide adenine dinucleotide',\n",
    "    'nadp': 'nicotinamide adenine dinucleotide phosphate',\n",
    "    'pantothenate': '(r)-pantothenate',\n",
    "    'pep': 'phosphoenolpyruvate',\n",
    "    '6-phosphogluconate': '6-phospho-gluconate',\n",
    "    'alpha-hydroxybutyrate': '4-hydroxybutyrate',\n",
    "    'inositol': 'myo-inositol',\n",
    "    'malondialdehyde': 'malonate semialdehyde',\n",
    "    'cis/trans-hydroxyproline': 'cis 4 hydroxy d proline',\n",
    "    'gaba': 'gamma-glutamyl-gamma aminobutyric acid',\n",
    "    'acetylglycine': 'acetyl-glycine',\n",
    "    'dimethylglycine': 'n,n-dimethylglycine',\n",
    "    'anthranilic acid': 'anthranilate',\n",
    "    'kynurenic acid': '4-hydroxy-2-quinolinecarboxylic acid',\n",
    "    'thiamine': 'thiamin',\n",
    "    'niacinamide': 'nicotinamide',\n",
    "    'betaine': 'glycine betaine',\n",
    "    'trimethylamine-n-oxide': 'trimethylamine n-oxide',\n",
    "    '2-deoxyadenosine': 'deoxyadenosine',\n",
    "    '2-deoxycytidine': 'deoxycytidine',\n",
    "    'pipecolic acid': 'pipecolic acid; piperidine-2-carboxylic acid',\n",
    "    '1-methylnicotinamide': '1 methylnicotinamide c7h9n2o',\n",
    "    'butyrobetaine': 'butyro-betaine',\n",
    "    'acetylcarnitine': 'o acetylcarnitine c9h17no4',\n",
    "    'propionylcarnitine': 'propionyl-carnitine',\n",
    "    'malonylcarnitine': 'malonyl carnitine',\n",
    "    'hexanoylcarnitine': 'hexanoyl carnitine',\n",
    "    'heptanoylcarnitine': 'heptanoyl-l-carnitine',\n",
    "    'lauroylcarnitine': 'lauroyl carnitine'\n",
    "}\n",
    "\n",
    "metabolite_df = metabolite_df.rename(dict_correct, axis=1)"
   ]
  },
  {
   "cell_type": "markdown",
   "id": "da92582e",
   "metadata": {},
   "source": [
    "Find Identical Matches between the two again"
   ]
  },
  {
   "cell_type": "code",
   "execution_count": 13,
   "id": "f15f3c70",
   "metadata": {},
   "outputs": [
    {
     "data": {
      "text/plain": [
       "108"
      ]
     },
     "execution_count": 13,
     "metadata": {},
     "output_type": "execute_result"
    }
   ],
   "source": [
    "# Identical Matches between the two\n",
    "perfect_fits = set(bigg).intersection(set(metabolite_df.columns))\n",
    "len(perfect_fits)"
   ]
  },
  {
   "cell_type": "markdown",
   "id": "35d54919",
   "metadata": {},
   "source": [
    "Annotate the dataframe with newfound BiGG IDs"
   ]
  },
  {
   "cell_type": "code",
   "execution_count": 14,
   "id": "a748a318",
   "metadata": {},
   "outputs": [
    {
     "name": "stderr",
     "output_type": "stream",
     "text": [
      "/var/folders/jh/5fjcdzvn7csgsswjnkqx0c_00000gp/T/ipykernel_54068/3944647559.py:2: FutureWarning: iteritems is deprecated and will be removed in a future version. Use .items instead.\n",
      "  for (index, name) in bigg.iteritems():\n",
      "/var/folders/jh/5fjcdzvn7csgsswjnkqx0c_00000gp/T/ipykernel_54068/3944647559.py:5: FutureWarning: The frame.append method is deprecated and will be removed from pandas in a future version. Use pandas.concat instead.\n",
      "  metabolite_df_with_ids = metabolite_df.append(bigg_ids, ignore_index = True)\n"
     ]
    }
   ],
   "source": [
    "bigg_ids = {}\n",
    "for (index, name) in bigg.iteritems():\n",
    "    if name in metabolite_df:\n",
    "        bigg_ids[name] = index\n",
    "metabolite_df_with_ids = metabolite_df.append(bigg_ids, ignore_index = True)\n",
    "metabolite_df_with_ids.index = metabolite_df.index.append(pd.Index([\"BIGG_ID\"]))\n",
    "metabolite_df_with_ids = metabolite_df_with_ids.dropna(axis = 1)\n",
    "metabolite_df_with_ids.columns = metabolite_df_with_ids.loc[\"BIGG_ID\"]\n",
    "metabolite_df_with_ids = metabolite_df_with_ids[:-1]"
   ]
  },
  {
   "cell_type": "markdown",
   "id": "482c9a25",
   "metadata": {},
   "source": [
    "Write to processed metabolomic file"
   ]
  },
  {
   "cell_type": "code",
   "execution_count": 16,
   "id": "0fe3d0f3",
   "metadata": {},
   "outputs": [],
   "source": [
    "metabolite_df_with_ids.to_csv(\"../Data/Generated Data/processed_metabolite_data.csv\", index_label= False)"
   ]
  },
  {
   "cell_type": "markdown",
   "id": "6aba9cff",
   "metadata": {},
   "source": [
    "Include this next section for adding required IDs to data\n",
    "(in this case we add IDs from Human Metabolome Database)"
   ]
  },
  {
   "cell_type": "code",
   "execution_count": 31,
   "id": "5d3eb048",
   "metadata": {},
   "outputs": [],
   "source": [
    "import re"
   ]
  },
  {
   "cell_type": "code",
   "execution_count": 53,
   "id": "a3b859ff",
   "metadata": {},
   "outputs": [],
   "source": [
    "required_ids = {}\n",
    "for met in bigg_ids.keys():\n",
    "    links = None\n",
    "    if isinstance(bigg_df.loc[bigg_ids[met]][\"database_links\"], pd.core.series.Series):\n",
    "        links = bigg_df.loc[bigg_ids[met]][\"database_links\"][0]\n",
    "    elif isinstance(bigg_df.loc[bigg_ids[met]][\"database_links\"], str):\n",
    "        links = bigg_df.loc[bigg_ids[met]][\"database_links\"]\n",
    "    if isinstance(links,str):\n",
    "        match = re.search(\"Human Metabolome Database: http://identifiers.org/hmdb/\", links)\n",
    "        if match:\n",
    "            required_id = re.split(\"Human Metabolome Database: http://identifiers.org/hmdb/\",links)[1]\n",
    "            required_id = re.split(\";\",required_id)[0]\n",
    "            required_ids[met] = required_id"
   ]
  },
  {
   "cell_type": "code",
   "execution_count": 55,
   "id": "54620c47",
   "metadata": {},
   "outputs": [],
   "source": [
    "metabolite_df_with_required_ids = metabolite_df_with_ids.append(required_ids, ignore_index = True)\n",
    "metabolite_df_with_required_ids.index = metabolite_df_with_ids.index.append(pd.Index([\"HMDB_ID\"]))"
   ]
  },
  {
   "cell_type": "code",
   "execution_count": 56,
   "id": "24919441",
   "metadata": {},
   "outputs": [],
   "source": [
    "metabolite_df_with_required_ids.to_csv(\"metabolite_df_with_required_ids.csv\")"
   ]
  },
  {
   "cell_type": "code",
   "execution_count": null,
   "id": "1dbc448f",
   "metadata": {},
   "outputs": [],
   "source": []
  }
 ],
 "metadata": {
  "kernelspec": {
   "display_name": "METenv",
   "language": "python",
   "name": "metenv"
  },
  "language_info": {
   "codemirror_mode": {
    "name": "ipython",
    "version": 3
   },
   "file_extension": ".py",
   "mimetype": "text/x-python",
   "name": "python",
   "nbconvert_exporter": "python",
   "pygments_lexer": "ipython3",
   "version": "3.10.4"
  }
 },
 "nbformat": 4,
 "nbformat_minor": 5
}
